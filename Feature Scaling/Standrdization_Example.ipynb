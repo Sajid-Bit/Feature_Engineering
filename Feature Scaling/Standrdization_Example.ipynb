{
 "cells": [
  {
   "cell_type": "code",
   "execution_count": 1,
   "metadata": {},
   "outputs": [],
   "source": [
    "import pandas as pd\n",
    "import numpy as np"
   ]
  },
  {
   "cell_type": "code",
   "execution_count": 3,
   "metadata": {},
   "outputs": [],
   "source": [
    "data = pd.read_csv('../Data/CarV3.csv')"
   ]
  },
  {
   "cell_type": "code",
   "execution_count": 5,
   "metadata": {},
   "outputs": [
    {
     "data": {
      "text/plain": [
       "0       450000\n",
       "1       370000\n",
       "2       158000\n",
       "3       225000\n",
       "4       130000\n",
       "         ...  \n",
       "8123    320000\n",
       "8124    135000\n",
       "8125    382000\n",
       "8126    290000\n",
       "8127    290000\n",
       "Name: selling_price, Length: 8128, dtype: int64"
      ]
     },
     "execution_count": 5,
     "metadata": {},
     "output_type": "execute_result"
    }
   ],
   "source": [
    "data['selling_price']"
   ]
  },
  {
   "cell_type": "code",
   "execution_count": 6,
   "metadata": {},
   "outputs": [
    {
     "name": "stdout",
     "output_type": "stream",
     "text": [
      "z_scores using numpy : [-0.2335288  -0.33275929 -0.5957201  ... -0.31787472 -0.43198978\n",
      " -0.43198978]\n"
     ]
    }
   ],
   "source": [
    "x = data['selling_price']\n",
    "x_np = np.array(x)\n",
    "z_scores_np = (x_np - x_np.mean()) / x_np.std()\n",
    "print(\"z_scores using numpy :\",z_scores_np)"
   ]
  },
  {
   "cell_type": "code",
   "execution_count": 7,
   "metadata": {},
   "outputs": [],
   "source": [
    "data['selling_price'] = z_scores_np"
   ]
  },
  {
   "cell_type": "code",
   "execution_count": 8,
   "metadata": {},
   "outputs": [
    {
     "data": {
      "text/plain": [
       "0      -0.233529\n",
       "1      -0.332759\n",
       "2      -0.595720\n",
       "3      -0.512615\n",
       "4      -0.630451\n",
       "          ...   \n",
       "8123   -0.394778\n",
       "8124   -0.624249\n",
       "8125   -0.317875\n",
       "8126   -0.431990\n",
       "8127   -0.431990\n",
       "Name: selling_price, Length: 8128, dtype: float64"
      ]
     },
     "execution_count": 8,
     "metadata": {},
     "output_type": "execute_result"
    }
   ],
   "source": [
    "data['selling_price']"
   ]
  },
  {
   "cell_type": "code",
   "execution_count": null,
   "metadata": {},
   "outputs": [],
   "source": []
  }
 ],
 "metadata": {
  "kernelspec": {
   "display_name": "base",
   "language": "python",
   "name": "python3"
  },
  "language_info": {
   "codemirror_mode": {
    "name": "ipython",
    "version": 3
   },
   "file_extension": ".py",
   "mimetype": "text/x-python",
   "name": "python",
   "nbconvert_exporter": "python",
   "pygments_lexer": "ipython3",
   "version": "3.9.13"
  },
  "orig_nbformat": 4
 },
 "nbformat": 4,
 "nbformat_minor": 2
}
